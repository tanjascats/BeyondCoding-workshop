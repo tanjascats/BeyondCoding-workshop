{
  "cells": [
    {
      "cell_type": "markdown",
      "metadata": {
        "id": "view-in-github",
        "colab_type": "text"
      },
      "source": [
        "<a href=\"https://colab.research.google.com/github/tanjascats/BeyondCoding-workshop/blob/main/BeyondCoding_workshop_24062022.ipynb\" target=\"_parent\"><img src=\"https://colab.research.google.com/assets/colab-badge.svg\" alt=\"Open In Colab\"/></a>"
      ]
    },
    {
      "cell_type": "markdown",
      "metadata": {
        "id": "PmnbkMxOr19Q"
      },
      "source": [
        "# Beyond Coding Workshop: \n",
        "## L7: Privacy from a developer's perspective\n",
        "\n",
        "### Contents:\n",
        "1. Anonymisation using crowds\n",
        "2. Synthetic data generation"
      ]
    },
    {
      "cell_type": "code",
      "execution_count": 2,
      "metadata": {
        "colab": {
          "base_uri": "https://localhost:8080/"
        },
        "id": "ZMsdDCj9wgDs",
        "outputId": "6e129aa1-cef0-4c2c-cc4b-0d735549cfce"
      },
      "outputs": [
        {
          "output_type": "stream",
          "name": "stdout",
          "text": [
            "Looking in indexes: https://pypi.org/simple, https://us-python.pkg.dev/colab-wheels/public/simple/\n",
            "Collecting crowds\n",
            "  Downloading crowds-0.0.1-py3-none-any.whl (19 kB)\n",
            "Requirement already satisfied: pandas>=0.25.1 in /usr/local/lib/python3.7/dist-packages (from crowds) (1.3.5)\n",
            "Requirement already satisfied: numpy>=1.17.3 in /usr/local/lib/python3.7/dist-packages (from pandas>=0.25.1->crowds) (1.21.6)\n",
            "Requirement already satisfied: python-dateutil>=2.7.3 in /usr/local/lib/python3.7/dist-packages (from pandas>=0.25.1->crowds) (2.8.2)\n",
            "Requirement already satisfied: pytz>=2017.3 in /usr/local/lib/python3.7/dist-packages (from pandas>=0.25.1->crowds) (2022.1)\n",
            "Requirement already satisfied: six>=1.5 in /usr/local/lib/python3.7/dist-packages (from python-dateutil>=2.7.3->pandas>=0.25.1->crowds) (1.15.0)\n",
            "Installing collected packages: crowds\n",
            "Successfully installed crowds-0.0.1\n"
          ]
        }
      ],
      "source": [
        "!pip install crowds"
      ]
    },
    {
      "cell_type": "code",
      "execution_count": 1,
      "metadata": {
        "id": "JmPmLDOesTyM"
      },
      "outputs": [],
      "source": [
        "import pandas as pd\n",
        "import numpy as np\n",
        "import json\n",
        "from matplotlib import pyplot as plt\n",
        "\n",
        "from crowds.kanonymity.ola import anonymize\n",
        "from crowds.kanonymity.information_loss import dm_star_loss \n",
        "from crowds.kanonymity.generalizations import GenRule"
      ]
    },
    {
      "cell_type": "code",
      "execution_count": 2,
      "metadata": {
        "id": "b26mCZd0spBU"
      },
      "outputs": [],
      "source": [
        "# import data\n",
        "adult = pd.read_csv('adult.csv', sep=' *; *', na_values='?', engine='python')\n",
        "adult.info()"
      ]
    },
    {
      "cell_type": "code",
      "execution_count": 7,
      "metadata": {
        "id": "7ZCJQfNXSD5w"
      },
      "outputs": [],
      "source": [
        "# one of these two hierarchies I can write with them; and another one they try to write on their own\n",
        "def generalise_marital_status(value):\n",
        "  if value in ['Married-AF-spouse','Married-civ-spouse']:\n",
        "    return 'spouse-present'\n",
        "  elif value in ['Divorced', 'Never-married', 'Separated', 'Widowed', 'Married-spouse-absent']:\n",
        "    return 'spouse-not-present'"
      ]
    },
    {
      "cell_type": "code",
      "execution_count": 8,
      "metadata": {
        "id": "lgbKJEHeS0n3"
      },
      "outputs": [],
      "source": [
        "def generalise_workclass(value):\n",
        "  if value in ['Private', 'Self-emp-not-inc', 'Self-emp-inc']:\n",
        "    return 'Non-Government'\n",
        "  elif value in ['Local-gov', 'Federal-gov', 'State-gov']:\n",
        "    return 'Government'\n",
        "  elif value in ['Without-pay', 'Never-worked']:\n",
        "    return 'Unemployed'"
      ]
    },
    {
      "cell_type": "code",
      "execution_count": 9,
      "metadata": {
        "id": "a845EPx4UpIj"
      },
      "outputs": [],
      "source": [
        "# the below generalisations will be uploaded from the json-s\n",
        "def generalise_education_level1(value):\n",
        "  # load dict of the first level\n",
        "  # dict level_1\n",
        "  with open('education_level1.json', 'rb') as infile:\n",
        "    level_1 = json.load(infile)\n",
        "  if value in level_1:\n",
        "    return level_1[value]"
      ]
    },
    {
      "cell_type": "code",
      "execution_count": 20,
      "metadata": {
        "id": "W7_pdlFo4inR"
      },
      "outputs": [],
      "source": [
        "def generalise_education_level2(value):\n",
        "  with open('education_level2.json', 'rb') as infile:\n",
        "    level_2 = json.load(infile)\n",
        "  if value in level_2:\n",
        "    return level_2[value]\n",
        "  else:\n",
        "    print(value)"
      ]
    },
    {
      "cell_type": "code",
      "execution_count": 11,
      "metadata": {
        "id": "hK-bkMa35Hgz"
      },
      "outputs": [],
      "source": [
        "def generalise_age_level1(value):\n",
        "  # this is slow because it needs to open the file every time when transforming a value\n",
        "  with open('age_level1.json', 'rb') as infile:\n",
        "    level1 = json.load(infile)\n",
        "  if str(value) in level1:\n",
        "    return level1[str(value)]"
      ]
    },
    {
      "cell_type": "code",
      "execution_count": 12,
      "metadata": {
        "id": "d-3gns_a5W7-"
      },
      "outputs": [],
      "source": [
        "def generalise_age_level2(value):\n",
        "  with open('age_level2.json', 'rb') as infile:\n",
        "    level2 = json.load(infile)\n",
        "  if str(value) in level2:\n",
        "    return level2[str(value)]"
      ]
    },
    {
      "cell_type": "code",
      "execution_count": 13,
      "metadata": {
        "id": "a1YkEmQ85iP_"
      },
      "outputs": [],
      "source": [
        "def generalise_age_level3(value):\n",
        "  with open('age_level3.json', 'rb') as infile:\n",
        "    level3 = json.load(infile)\n",
        "  if str(value) in level3:\n",
        "    return level3[str(value)]"
      ]
    },
    {
      "cell_type": "code",
      "execution_count": 14,
      "metadata": {
        "id": "3EQxK98r51yh"
      },
      "outputs": [],
      "source": [
        "def generalise_native_country(value):\n",
        "  with open('native-country_level1.json', 'rb') as infile:\n",
        "    level1 = json.load(infile)\n",
        "  if value in level1:\n",
        "    return level1[value]"
      ]
    },
    {
      "cell_type": "markdown",
      "metadata": {
        "id": "gcfSzrYz26Jw"
      },
      "source": [
        "idea: compare anonymised data with the one from ARX"
      ]
    },
    {
      "cell_type": "code",
      "source": [
        "generalization_rules = {\n",
        "    'age': GenRule([generalise_age_level1, generalise_age_level2, generalise_age_level3]), # 4-levels generalization\n",
        "    'sex': GenRule([]), # 1 level\n",
        "    'race': GenRule([]), # 1 level\n",
        "    'marital-status': GenRule([generalise_marital_status]), # 2 levels\n",
        "    'education': GenRule([generalise_education_level1, generalise_education_level2]), # 3 levels\n",
        "    'native-country': GenRule([generalise_native_country]), # 2 levels\n",
        "    'workclass': GenRule([generalise_workclass]) # 2 levels\n",
        "}\n",
        "\n",
        "anonymize(adult, generalization_rules=generalization_rules, k=2, max_sup=0.0, info_loss=dm_star_loss)"
      ],
      "metadata": {
        "colab": {
          "base_uri": "https://localhost:8080/"
        },
        "id": "gm-IeoadwSm3",
        "outputId": "b8a6f4f7-aff5-4ef3-e386-f98a3421c8d9"
      },
      "execution_count": 22,
      "outputs": [
        {
          "output_type": "stream",
          "name": "stdout",
          "text": [
            "<class 'pandas.core.frame.DataFrame'>\n",
            "RangeIndex: 30162 entries, 0 to 30161\n",
            "Data columns (total 9 columns):\n",
            " #   Column          Non-Null Count  Dtype \n",
            "---  ------          --------------  ----- \n",
            " 0   sex             30162 non-null  object\n",
            " 1   age             30162 non-null  int64 \n",
            " 2   race            30162 non-null  object\n",
            " 3   marital-status  30162 non-null  object\n",
            " 4   education       30162 non-null  object\n",
            " 5   native-country  30162 non-null  object\n",
            " 6   workclass       30162 non-null  object\n",
            " 7   occupation      30162 non-null  object\n",
            " 8   salary-class    30162 non-null  object\n",
            "dtypes: int64(1), object(8)\n",
            "memory usage: 2.1+ MB\n"
          ]
        },
        {
          "output_type": "execute_result",
          "data": {
            "text/plain": [
              "[         age  workclass  fnlwgt               education  education-num  \\\n",
              " 0      30-39  State-gov   77516           Undergraduate             13   \n",
              " 1      30-39  State-gov  170525           Undergraduate             10   \n",
              " 2      30-39  State-gov  143774           Undergraduate             10   \n",
              " 3      30-39  State-gov  301526           Undergraduate             10   \n",
              " 4      30-39  State-gov   60227           Undergraduate             13   \n",
              " ...      ...        ...     ...                     ...            ...   \n",
              " 31594  40-49    Private  126850  Professional Education             15   \n",
              " 31595  50-59  Local-gov  212856                Graduate             14   \n",
              " 31596  50-59  Local-gov  268213                Graduate             14   \n",
              " 31597  40-49    Private  191098           Undergraduate             13   \n",
              " 31598  40-49    Private  304570           Undergraduate             13   \n",
              " \n",
              "            marital-status       occupation    relationship  race   sex  \\\n",
              " 0      spouse-not-present     Adm-clerical   Not-in-family  None  None   \n",
              " 1      spouse-not-present     Adm-clerical   Not-in-family  None  None   \n",
              " 2      spouse-not-present  Exec-managerial   Not-in-family  None  None   \n",
              " 3      spouse-not-present    Other-service  Other-relative  None  None   \n",
              " 4      spouse-not-present     Adm-clerical   Not-in-family  None  None   \n",
              " ...                   ...              ...             ...   ...   ...   \n",
              " 31594      spouse-present     Adm-clerical         Husband  None  None   \n",
              " 31595      spouse-present   Prof-specialty         Husband  None  None   \n",
              " 31596      spouse-present   Prof-specialty         Husband  None  None   \n",
              " 31597      spouse-present   Prof-specialty         Husband  None  None   \n",
              " 31598      spouse-present  Exec-managerial         Husband  None  None   \n",
              " \n",
              "        capital-gain  capital-loss  hours-per-week native-country income  \n",
              " 0              2174             0              40  United-States  <=50K  \n",
              " 1                 0             0              38  United-States  <=50K  \n",
              " 2                 0             0              45  United-States  <=50K  \n",
              " 3                 0             0              40  United-States  <=50K  \n",
              " 4                 0             0              38  United-States  <=50K  \n",
              " ...             ...           ...             ...            ...    ...  \n",
              " 31594             0             0              40    Philippines  <=50K  \n",
              " 31595             0             0              40            NaN   >50K  \n",
              " 31596             0             0              35            NaN   >50K  \n",
              " 31597             0             0              40          China  <=50K  \n",
              " 31598             0             0              60          China   >50K  \n",
              " \n",
              " [31599 rows x 15 columns],\n",
              " {'age': 2, 'education': 1, 'marital-status': 1, 'race': 1, 'sex': 1}]"
            ]
          },
          "metadata": {},
          "execution_count": 22
        }
      ]
    }
  ],
  "metadata": {
    "colab": {
      "collapsed_sections": [],
      "name": "BeyondCoding_workshop.ipynb",
      "provenance": [],
      "authorship_tag": "ABX9TyOqoxEK2xvs/b5pDgEtw+7V",
      "include_colab_link": true
    },
    "kernelspec": {
      "display_name": "Python 3",
      "name": "python3"
    },
    "language_info": {
      "name": "python"
    }
  },
  "nbformat": 4,
  "nbformat_minor": 0
}